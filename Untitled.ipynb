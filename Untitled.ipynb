{
 "cells": [
  {
   "cell_type": "code",
   "execution_count": null,
   "id": "803dfc79",
   "metadata": {},
   "outputs": [],
   "source": [
    "Exercise 1: Bank Account\n",
    "Create a BankAccount class with the following attributes and methods:\n",
    "Attributes:\n",
    "\n",
    "account_number: A unique identifier for the account.\n",
    "balance: The current balance in the account.\n",
    "Methods:\n",
    "\n",
    "__init__(self,account_number,initial_balance): Constructor that initializes\n",
    "the account number and initial balance.\n",
    "deposit(self, amount): Method to deposit a given amount into the account.\n",
    "withdraw(self, amount): Method to withdraw a given amount from the account.\n",
    "get_balance(self): Method to retrieve the current balance of the account.\n"
   ]
  },
  {
   "cell_type": "code",
   "execution_count": null,
   "id": "99d34dc1",
   "metadata": {},
   "outputs": [
    {
     "name": "stdout",
     "output_type": "stream",
     "text": [
      "Bank account\n",
      "1.deposite\n",
      "2.withdraw\n",
      "3.get balance\n",
      "4.exit\n",
      "Enter your choice: 1\n",
      "Enter the amount to be deposited: 500\n",
      "\n",
      "deposited 500 \n",
      "current balance: 1500\n",
      "\n",
      "Bank account\n",
      "1.deposite\n",
      "2.withdraw\n",
      "3.get balance\n",
      "4.exit\n",
      "Enter your choice: 2\n",
      "Enter the withdrawal amount: 1000\n",
      "\n",
      "withdral ammount 1000\n",
      "current balance: 500\n",
      "\n",
      "Bank account\n",
      "1.deposite\n",
      "2.withdraw\n",
      "3.get balance\n",
      "4.exit\n"
     ]
    }
   ],
   "source": [
    "class BankAccount:\n",
    "    def __init__(self,account_number,initial_balance):\n",
    "        self.account_number = account_number\n",
    "        self.balance = initial_balance\n",
    "    def deposit(self, amount):\n",
    "        if str(amount).isnumeric() and int(amount) > 0 and not str(amount).startswith('0'):\n",
    "            self.balance += int(amount)\n",
    "            return f\"\\ndeposited {amount} \\ncurrent balance: {self.balance}\\n\"\n",
    "        else:\n",
    "            return \"invalid deposit amount.\"\n",
    "    def withdraw(self, amount):\n",
    "        if str(amount).isnumeric() and int(amount) > 0 and int(amount) <= self.balance:\n",
    "            self.balance -= int(amount)\n",
    "            return f\"\\nwithdral ammount {amount}\\ncurrent balance: {self.balance}\\n\"\n",
    "        else:\n",
    "            return \"insufficient funds or invalid withdrawal amount.\"\n",
    "    def get_balance(self):\n",
    "        return f\"\\nCurrent balance: {self.balance}\\n\"\n",
    "    \n",
    "account1 = BankAccount(\"123456\", 1000)\n",
    "while True:\n",
    "    print(\"Bank account\")\n",
    "    print(\"1.deposite\")\n",
    "    print(\"2.withdraw\")\n",
    "    print(\"3.get balance\")\n",
    "    print(\"4.exit\")\n",
    "    choice = input(\"Enter your choice: \")\n",
    "    if choice == \"1\":\n",
    "        amount = input(\"Enter the amount to be deposited: \")\n",
    "        print(account1.deposit(amount))\n",
    "    elif choice == \"2\":\n",
    "        amount = input(\"Enter the withdrawal amount: \")\n",
    "        print(account1.withdraw(amount))\n",
    "    elif choice == \"3\":\n",
    "        print(account1.get_balance())\n",
    "    elif choice == \"4\":\n",
    "        print(\"thank you\")\n",
    "        break\n",
    "    else:\n",
    "        print(\"Invalid choice. Please choose again.\")"
   ]
  },
  {
   "cell_type": "code",
   "execution_count": null,
   "id": "8866ec88",
   "metadata": {},
   "outputs": [],
   "source": [
    "Exercise 2: ToDo List\n",
    "Create a ToDoList class to manage a list of tasks with the following \n",
    "attributes and methods:\n",
    "Attributes:\n",
    "\n",
    "tasks: A list to store the tasks.\n",
    "Methods:\n",
    "\n",
    "__init__(self): Constructor that initializes an empty list of tasks.\n",
    "add_task(self, task): Method to add a task to the list.\n",
    "remove_task(self, task): Method to remove a task from the list.\n",
    "get_tasks(self): Method to retrieve the list of tasks.\n",
    "get_completed_tasks(self): Method to retrieve the list of completed tasks.\n",
    "mark_task_complete(self, task): Method to mark a task as completed.\n",
    "These exercises will help you practice creating classes, defining attributes\n",
    "and methods, and using constructors to initialize object instances. You can\n",
    "then implement the methods based on the functionality described for each \n",
    "class."
   ]
  },
  {
   "cell_type": "code",
   "execution_count": null,
   "id": "f4bb30db",
   "metadata": {},
   "outputs": [],
   "source": [
    "class todolist:\n",
    "    def __init__(self):\n",
    "        self.tasks=[]\n",
    "    def add_tasks(task):\n",
    "        self.task.append(task)\n",
    "    def remove_tasks(task):\n",
    "        self.tasks.remove(task)\n",
    "while True:\n",
    "        print(\"to do list\")\n",
    "        print(\"1.add task\")\n",
    "        print(\"2.remove task\")\n",
    "        \n",
    "        choice="
   ]
  }
 ],
 "metadata": {
  "kernelspec": {
   "display_name": "Python 3 (ipykernel)",
   "language": "python",
   "name": "python3"
  },
  "language_info": {
   "codemirror_mode": {
    "name": "ipython",
    "version": 3
   },
   "file_extension": ".py",
   "mimetype": "text/x-python",
   "name": "python",
   "nbconvert_exporter": "python",
   "pygments_lexer": "ipython3",
   "version": "3.11.3"
  }
 },
 "nbformat": 4,
 "nbformat_minor": 5
}

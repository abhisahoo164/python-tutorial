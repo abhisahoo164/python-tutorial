{
 "cells": [
  {
   "cell_type": "code",
   "execution_count": 1,
   "id": "8f2156e6",
   "metadata": {},
   "outputs": [
    {
     "name": "stdout",
     "output_type": "stream",
     "text": [
      "abhi\n"
     ]
    }
   ],
   "source": [
    "print(\"abhi\")"
   ]
  },
  {
   "cell_type": "code",
   "execution_count": 2,
   "id": "f4305189",
   "metadata": {},
   "outputs": [
    {
     "name": "stdout",
     "output_type": "stream",
     "text": [
      "enter your first nameabhi\n"
     ]
    }
   ],
   "source": [
    "users_first_name = input(\"enter your first name\")"
   ]
  },
  {
   "cell_type": "code",
   "execution_count": 3,
   "id": "6ebee420",
   "metadata": {},
   "outputs": [],
   "source": [
    "my_name=\"abhijeet\""
   ]
  },
  {
   "cell_type": "code",
   "execution_count": 6,
   "id": "399798c6",
   "metadata": {},
   "outputs": [
    {
     "data": {
      "text/plain": [
       "2"
      ]
     },
     "execution_count": 6,
     "metadata": {},
     "output_type": "execute_result"
    }
   ],
   "source": [
    "my_name.count('e')\n"
   ]
  },
  {
   "cell_type": "code",
   "execution_count": 9,
   "id": "cb61480e",
   "metadata": {},
   "outputs": [
    {
     "name": "stdout",
     "output_type": "stream",
     "text": [
      "enter the first number = 25\n",
      "enter the second number = 15\n",
      "sum     =  40 \n",
      "subtract=  10 \n",
      "multiply=  375 \n",
      "divide  =  1\n"
     ]
    }
   ],
   "source": [
    "x=int(input(\"enter the first number = \"))\n",
    "y=int(input(\"enter the second number = \"))\n",
    "sum=x+y\n",
    "subtract=x-y\n",
    "multiply=x*y\n",
    "divide=x/y\n",
    "print(\"sum     = \",sum,\"\\nsubtract= \",subtract,\"\\nmultiply= \",multiply,\"\\ndivide  = \",int(divide))"
   ]
  },
  {
   "cell_type": "code",
   "execution_count": 11,
   "id": "90246661",
   "metadata": {},
   "outputs": [
    {
     "name": "stdout",
     "output_type": "stream",
     "text": [
      "enter your first name = basanta\n",
      "enter your middle name = kumar\n",
      "enter your last name = sahoo\n",
      "your full name is basanta kumar sahoo\n"
     ]
    }
   ],
   "source": [
    "first_name=input(\"enter your first name = \")\n",
    "middle_name=input(\"enter your middle name = \")\n",
    "last_name=input(\"enter your last name = \")\n",
    "full_name=first_name+\" \"+middle_name+\" \"+last_name\n",
    "print(\"your full name is\",full_name)"
   ]
  },
  {
   "cell_type": "code",
   "execution_count": null,
   "id": "5e23090d",
   "metadata": {},
   "outputs": [],
   "source": []
  },
  {
   "cell_type": "code",
   "execution_count": null,
   "id": "b7f28588",
   "metadata": {},
   "outputs": [],
   "source": []
  },
  {
   "cell_type": "code",
   "execution_count": null,
   "id": "a38a1ccc",
   "metadata": {},
   "outputs": [],
   "source": []
  },
  {
   "cell_type": "code",
   "execution_count": null,
   "id": "9e6dc170",
   "metadata": {},
   "outputs": [],
   "source": []
  },
  {
   "cell_type": "code",
   "execution_count": null,
   "id": "0cf07ea7",
   "metadata": {},
   "outputs": [],
   "source": []
  }
 ],
 "metadata": {
  "kernelspec": {
   "display_name": "Python 3 (ipykernel)",
   "language": "python",
   "name": "python3"
  },
  "language_info": {
   "codemirror_mode": {
    "name": "ipython",
    "version": 3
   },
   "file_extension": ".py",
   "mimetype": "text/x-python",
   "name": "python",
   "nbconvert_exporter": "python",
   "pygments_lexer": "ipython3",
   "version": "3.11.3"
  }
 },
 "nbformat": 4,
 "nbformat_minor": 5
}

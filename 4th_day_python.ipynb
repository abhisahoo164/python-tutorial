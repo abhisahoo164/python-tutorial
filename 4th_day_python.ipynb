{
 "cells": [
  {
   "cell_type": "code",
   "execution_count": null,
   "id": "04945b51",
   "metadata": {},
   "outputs": [],
   "source": [
    "# Write a Python program that takes a list of  word as input and \n",
    "# creates a dictionary that counts the frequency of each word in \n",
    "# the list. Then, print the word and its corresponding frequency. \n",
    "# Consider converting all words to lowercase to make the counting\n",
    "# case-insensitive."
   ]
  },
  {
   "cell_type": "code",
   "execution_count": null,
   "id": "d36e9ccd",
   "metadata": {},
   "outputs": [],
   "source": [
    "input_list = input(\"Enter a list of words separated by spaces: \")\n",
    "list_of_words=input_list.split()\n",
    "frequency_dict={}\n",
    "for i in range(len(list_of_words)):\n",
    "    if list_of_words[i] in frequency_dict:\n",
    "        continue\n",
    "    else: \n",
    "        for j in range(len(list_of_words)):\n",
    "            list_of_words[j]=list_of_words[j].lower()\n",
    "            if i>=j:\n",
    "                continue\n",
    "            elif list_of_words[i]==list_of_words[j]:\n",
    "                if list_of_words[i] in frequency_dict:\n",
    "                    frequency_dict[list_of_words[i]]=frequency_dict[list_of_words[i]]+1\n",
    "                else:\n",
    "                    frequency_dict[list_of_words[i]]=2\n",
    "            elif list_of_words[i] in frequency_dict:\n",
    "                continue\n",
    "            else:\n",
    "                frequency_dict[list_of_words[i]]=1\n",
    "print(frequency_dict)\n",
    "# rAM RAM raM RaM SAM sam Sam"
   ]
  },
  {
   "cell_type": "code",
   "execution_count": null,
   "id": "15c77420",
   "metadata": {},
   "outputs": [],
   "source": [
    "# Write a Python program that takes a list as input and returns new\n",
    "# list containing only the unique elements from the original list, \n",
    "# preserving the order of appearance. Avoid using sets to maintain \n",
    "# the original order."
   ]
  },
  {
   "cell_type": "code",
   "execution_count": 4,
   "id": "67c69ab3",
   "metadata": {},
   "outputs": [
    {
     "name": "stdout",
     "output_type": "stream",
     "text": [
      "['Eve']\n"
     ]
    }
   ],
   "source": [
    "input_list = input(\"Enter a list of words separated by spaces: \")\n",
    "list_of_words=input_list.split()\n",
    "unique_list = []\n",
    "not_unique_list=[]\n",
    "for i in range(len(list_of_words)):\n",
    "    if list_of_words[i] not in not_unique_list:\n",
    "        not_unique_list.append(list_of_words[i])\n",
    "        unique_list.append(list_of_words[i])\n",
    "    elif list_of_words[i] in not_unique_list:\n",
    "        if list_of_words[i] in unique_list:\n",
    "            unique_list.remove(list_of_words[i])\n",
    "        else:\n",
    "            continue\n",
    "print(unique_list)"
   ]
  },
  {
   "cell_type": "code",
   "execution_count": null,
   "id": "853b81c5",
   "metadata": {},
   "outputs": [],
   "source": [
    "Create a phonebook application using a dictionary.The program \n",
    "should allow users to add new contacts, look up contacts by \n",
    "their names, delete contacts, and list all contacts in the \n",
    "phonebook. Implement a simple menu-based interface to interact\n",
    "with the phonebook."
   ]
  },
  {
   "cell_type": "code",
   "execution_count": null,
   "id": "cf540206",
   "metadata": {},
   "outputs": [],
   "source": [
    "\n",
    "phonebook={}\n",
    "while True:\n",
    "    print(\"\\nPHONEBOOK:\\n\")\n",
    "    print(\"add new contact(PRESS 1)\")\n",
    "    print(\"look up contact(PRESS 2)\")\n",
    "    print(\"delete contact(PRESS 3)\")\n",
    "    print(\"list all contacts(PRESS 4)\")\n",
    "    print(\"quit(PRESS 5)\")\n",
    "\n",
    "    choice = input(\"Enter your choice: \")\n",
    "\n",
    "    if choice == '1':\n",
    "        name = input(\"Enter the name: \")\n",
    "        number = input(\"Enter the phone number: \")\n",
    "        phonebook[name] = number\n",
    "        print(f\"Contact {name} added successfully!\")\n",
    "    elif choice == '2':\n",
    "        name = input(\"Enter the name to look up: \")\n",
    "        if name in phonebook:\n",
    "            print(f\"Phone number for {name}: {phonebook[name]}\")\n",
    "        else:\n",
    "            print(f\"Contact {name} not found in the phonebook.\")\n",
    "    elif choice == '3':\n",
    "        name = input(\"Enter the name to delete: \")\n",
    "        if name in phonebook:\n",
    "            del phonebook[name]\n",
    "            print(f\"Contact {name} deleted from the phonebook.\")\n",
    "        else:\n",
    "            print(f\"Contact {name} not found in the phonebook.\")\n",
    "    elif choice == '4':\n",
    "        print(\"Contacts in the phonebook:\")\n",
    "        for name, number in phonebook.items():\n",
    "            print(f\"{name}: {number}\")\n",
    "    elif choice == '5':\n",
    "        print(\"Exiting the phonebook application.\")\n",
    "        break\n",
    "    else:\n",
    "        print(\"Invalid choice. Please choose again.\")"
   ]
  },
  {
   "cell_type": "code",
   "execution_count": 4,
   "id": "f21b0358",
   "metadata": {},
   "outputs": [
    {
     "name": "stdout",
     "output_type": "stream",
     "text": [
      "Enter a list of words separated by , a,A,b,B,C,c,c,B,A\n",
      "['a', 'A', 'b', 'B', 'C', 'c', 'c', 'B', 'A']\n",
      "{'a': 3, 'b': 3, 'c': 3}\n"
     ]
    }
   ],
   "source": [
    "input_list = input(\"Enter a list of words separated by , \")\n",
    "frequency_dict = {}\n",
    "if len(input_list.strip()) <= 0:\n",
    "    print('please enter a list of words')\n",
    "else: \n",
    "    list_of_words=input_list.split(',')\n",
    "    print(list_of_words)\n",
    "    for j in range(len(list_of_words)):\n",
    "        list_of_words[j]=list_of_words[j].lower()\n",
    "    for i in list_of_words:\n",
    "        if i in frequency_dict:\n",
    "            frequency_dict[i]=frequency_dict[i] + 1\n",
    "        else:\n",
    "            frequency_dict[i]=1            \n",
    "print(frequency_dict)"
   ]
  },
  {
   "cell_type": "code",
   "execution_count": null,
   "id": "ebe3e982",
   "metadata": {},
   "outputs": [],
   "source": []
  },
  {
   "cell_type": "code",
   "execution_count": null,
   "id": "2dc79325",
   "metadata": {},
   "outputs": [],
   "source": []
  },
  {
   "cell_type": "code",
   "execution_count": null,
   "id": "7f3bb8b7",
   "metadata": {},
   "outputs": [],
   "source": []
  },
  {
   "cell_type": "code",
   "execution_count": null,
   "id": "33c7831a",
   "metadata": {},
   "outputs": [],
   "source": []
  },
  {
   "cell_type": "code",
   "execution_count": null,
   "id": "3f6df7e9",
   "metadata": {},
   "outputs": [],
   "source": []
  },
  {
   "cell_type": "code",
   "execution_count": null,
   "id": "38b039cb",
   "metadata": {},
   "outputs": [],
   "source": []
  }
 ],
 "metadata": {
  "kernelspec": {
   "display_name": "Python 3 (ipykernel)",
   "language": "python",
   "name": "python3"
  },
  "language_info": {
   "codemirror_mode": {
    "name": "ipython",
    "version": 3
   },
   "file_extension": ".py",
   "mimetype": "text/x-python",
   "name": "python",
   "nbconvert_exporter": "python",
   "pygments_lexer": "ipython3",
   "version": "3.11.3"
  }
 },
 "nbformat": 4,
 "nbformat_minor": 5
}

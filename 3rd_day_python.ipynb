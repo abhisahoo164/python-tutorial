{
 "cells": [
  {
   "cell_type": "code",
   "execution_count": 7,
   "id": "a8bc43ff",
   "metadata": {},
   "outputs": [],
   "source": [
    "#Write a Python program that prompts the user to enter a \n",
    "#password. Keep asking for the password until the correct \n",
    "#password \"abc123\" is entered.When the correct password is \n",
    "#entered, print \"Access granted!\""
   ]
  },
  {
   "cell_type": "code",
   "execution_count": 6,
   "id": "76ee3611",
   "metadata": {},
   "outputs": [
    {
     "name": "stdout",
     "output_type": "stream",
     "text": [
      "enter the password = abc124\n",
      "access ddenied!! !!incorect password \n",
      "enter the password = abc848\n",
      "access ddenied!! !!incorect password \n",
      "enter the password = abc123\n",
      "access granted\n"
     ]
    }
   ],
   "source": [
    "right_password = \"abc123\"\n",
    "while 1==1:\n",
    "    enter_password = input(\"enter the password = \")\n",
    "    if enter_password==right_password:\n",
    "        print(\"access granted\")\n",
    "        break\n",
    "    else:\n",
    "        print(\"access denied!! !!incorect password \")\n",
    "    "
   ]
  },
  {
   "cell_type": "code",
   "execution_count": null,
   "id": "32e99e8a",
   "metadata": {},
   "outputs": [],
   "source": [
    "#Create a Python program that calculates the sum of all the\n",
    "#digits of a given number. For example, if the user inputs \n",
    "#1234, the program should output 10 (1 + 2 + 3 + 4) as sum\n"
   ]
  },
  {
   "cell_type": "code",
   "execution_count": 13,
   "id": "ec74755d",
   "metadata": {},
   "outputs": [
    {
     "name": "stdout",
     "output_type": "stream",
     "text": [
      "enter the number = 8235865213\n",
      "sum of all the digits of 8235865213 = 43\n"
     ]
    }
   ],
   "source": [
    "number = int(input(\"enter the number = \"))\n",
    "x=number\n",
    "sum = 0\n",
    "i=1\n",
    "while i<=number:\n",
    "    if number == 0:\n",
    "        break\n",
    "    else:\n",
    "        sum = sum + (number%10)\n",
    "        number = int(number/10)\n",
    "print(\"sum of all the digits of \"+str(x)+\" = \"+str(sum))"
   ]
  },
  {
   "cell_type": "code",
   "execution_count": null,
   "id": "c028c90c",
   "metadata": {},
   "outputs": [],
   "source": []
  },
  {
   "cell_type": "code",
   "execution_count": null,
   "id": "e78eb121",
   "metadata": {},
   "outputs": [],
   "source": []
  },
  {
   "cell_type": "code",
   "execution_count": null,
   "id": "70e4ecb7",
   "metadata": {},
   "outputs": [],
   "source": []
  },
  {
   "cell_type": "code",
   "execution_count": null,
   "id": "b8c61f65",
   "metadata": {},
   "outputs": [],
   "source": []
  },
  {
   "cell_type": "code",
   "execution_count": null,
   "id": "f58d2f3f",
   "metadata": {},
   "outputs": [],
   "source": []
  },
  {
   "cell_type": "code",
   "execution_count": null,
   "id": "28304073",
   "metadata": {},
   "outputs": [],
   "source": []
  },
  {
   "cell_type": "code",
   "execution_count": null,
   "id": "12a7a88c",
   "metadata": {},
   "outputs": [],
   "source": []
  },
  {
   "cell_type": "code",
   "execution_count": null,
   "id": "bf9fc766",
   "metadata": {},
   "outputs": [],
   "source": []
  },
  {
   "cell_type": "code",
   "execution_count": null,
   "id": "929b504f",
   "metadata": {},
   "outputs": [],
   "source": []
  },
  {
   "cell_type": "code",
   "execution_count": null,
   "id": "92ac50b7",
   "metadata": {},
   "outputs": [],
   "source": []
  },
  {
   "cell_type": "code",
   "execution_count": null,
   "id": "55380cc2",
   "metadata": {},
   "outputs": [],
   "source": []
  },
  {
   "cell_type": "code",
   "execution_count": null,
   "id": "1df5daa8",
   "metadata": {},
   "outputs": [],
   "source": []
  },
  {
   "cell_type": "code",
   "execution_count": null,
   "id": "31bb6a27",
   "metadata": {},
   "outputs": [],
   "source": []
  },
  {
   "cell_type": "code",
   "execution_count": null,
   "id": "691115ca",
   "metadata": {},
   "outputs": [],
   "source": []
  },
  {
   "cell_type": "code",
   "execution_count": null,
   "id": "24444a1b",
   "metadata": {},
   "outputs": [],
   "source": []
  }
 ],
 "metadata": {
  "kernelspec": {
   "display_name": "Python 3 (ipykernel)",
   "language": "python",
   "name": "python3"
  },
  "language_info": {
   "codemirror_mode": {
    "name": "ipython",
    "version": 3
   },
   "file_extension": ".py",
   "mimetype": "text/x-python",
   "name": "python",
   "nbconvert_exporter": "python",
   "pygments_lexer": "ipython3",
   "version": "3.11.3"
  }
 },
 "nbformat": 4,
 "nbformat_minor": 5
}

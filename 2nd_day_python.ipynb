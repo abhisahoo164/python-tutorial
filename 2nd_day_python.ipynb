{
 "cells": [
  {
   "cell_type": "code",
   "execution_count": 2,
   "id": "4650a69e",
   "metadata": {},
   "outputs": [
    {
     "name": "stdout",
     "output_type": "stream",
     "text": [
      "how many persons want to watch movie(pls enter numbers..) = 3\n",
      "enter the name of person 1 = abhi\n",
      "enter the age of abhi = 56\n",
      "enter the name of person 2 = jeet\n",
      "enter the age of jeet = 57\n",
      "enter the name of person 3 = sahoo\n",
      "enter the age of sahoo = 3\n",
      "Total Amount to be paid = $25\n"
     ]
    }
   ],
   "source": [
    "no_of_people=int(input(\"how many persons want to watch movie(pls enter numbers..) = \"))\n",
    "total_amt=0\n",
    "if no_of_people<=3:\n",
    "    for x in range(1,(no_of_people+1)):\n",
    "        name = input(\"enter the name of person \"+str(x)+\" = \")\n",
    "        age = int(input(\"enter the age of \"+name+\" = \")) \n",
    "        if age<0:\n",
    "            print(\"age can not be smaller than zero!! invalid input \\n       !! SORRY !!      \\n try again\")\n",
    "            break\n",
    "        elif age<=12:\n",
    "            total_amt=total_amt+5\n",
    "        elif age<=17:\n",
    "            total_amt=total_amt+7\n",
    "        elif age<=64:\n",
    "            total_amt=total_amt+10\n",
    "        elif age<=100:\n",
    "            total_amt=total_amt+8\n",
    "        else:\n",
    "            print(\"age can not be more than 100 \\nplease try again later!!\")\n",
    "            break\n",
    "else:\n",
    "    print(\"more than 3 people are not allowed\\n!!SORRY!!\")\n",
    "    \n",
    "print(\"Total Amount to be paid = $\"+str(total_amt))   "
   ]
  },
  {
   "cell_type": "markdown",
   "id": "5ec39134",
   "metadata": {},
   "source": [
    "## "
   ]
  },
  {
   "cell_type": "code",
   "execution_count": 4,
   "id": "f43f82f9",
   "metadata": {},
   "outputs": [
    {
     "name": "stdout",
     "output_type": "stream",
     "text": [
      "enter how many person want to watch the movie ?3\n",
      "enter first persons age98\n",
      "enter second persons age58\n",
      "enter third persons age55\n",
      "total amount to pay is - 28\n"
     ]
    }
   ],
   "source": [
    "how_many_person =  input(\"enter how many person want to watch the movie ?\")\n",
    "if how_many_person.isdigit()  and int(how_many_person)<=3:\n",
    "    cost_1=0\n",
    "    if int(how_many_person)==1:\n",
    "        age_1 = input('enter first persons age')\n",
    "        if int(age_1) >100 or int(age_1) <=0:\n",
    "            print('your age can not be greater than 100')\n",
    "        else:\n",
    "            if int(age_1) <=12:\n",
    "                cost_1+=5\n",
    "            elif int(age_1) >=13 and int(age_1) <=17:\n",
    "                cost_1+=7\n",
    "            elif int(age_1) >=18 and int(age_1) <=64:\n",
    "                cost_1+=10\n",
    "            else:\n",
    "                cost_1=8\n",
    "    elif int(how_many_person)==2:\n",
    "        age_1=input(\"enter first persons age\")\n",
    "        if int(age_1) >100 or int(age_1) <= 0 :\n",
    "            print('your age can not be grater than 100')\n",
    "        else:\n",
    "            if int(age_1) <=12:\n",
    "                cost_1+=5\n",
    "            elif int(age_1) >=13 and int(age_1) <=17:\n",
    "                cost_1+=7\n",
    "            elif int(age_1) >=18 and int(age_1) <=64:\n",
    "                cost_1+=10\n",
    "            else:\n",
    "                cost_1+=8\n",
    "        \n",
    "        age_2= input(\"enter second persons age\")\n",
    "        if  int(age_2)>100 or int(age_2) <=0:\n",
    "            print('your age can not be grater than 100')\n",
    "        else:\n",
    "            if int(age_2) <=12:\n",
    "                cost_1+=5\n",
    "            elif int(age_2) >=13 and int(age_2) <=17:\n",
    "                cost_1+=7\n",
    "            elif int(age_2) >=18 and int(age_2) <=64:\n",
    "                cost_1+=10\n",
    "            else:\n",
    "                cost_1+=8            \n",
    "    elif int(how_many_person)==3:\n",
    "        age_1=input(\"enter first persons age\")\n",
    "        if int(age_1) >100 or int(age_1) <= 0 :\n",
    "            print('your age can not be grater than 100')\n",
    "        else:\n",
    "            if int(age_1) <=12:\n",
    "                cost_1+=5\n",
    "            elif int(age_1) >=13 and int(age_1) <=17:\n",
    "                cost_1+=7\n",
    "            elif int(age_1) >=18 and int(age_1) <=64:\n",
    "                cost_1+=10\n",
    "            else:\n",
    "                cost_1+=8\n",
    "        \n",
    "        age_2= input(\"enter second persons age\")\n",
    "        if  int(age_2)>100 or int(age_2) <=0:\n",
    "            print('your age can not be grater than 100')\n",
    "        else:\n",
    "            if int(age_2) <=12:\n",
    "                cost_1+=5\n",
    "            elif int(age_2) >=13 and int(age_2) <=17:\n",
    "                cost_1+=7\n",
    "            elif int(age_2) >=18 and int(age_2) <=64:\n",
    "                cost_1+=10\n",
    "            else:\n",
    "                cost_1+=8\n",
    "\n",
    "        age_3= input(\"enter third persons age\")\n",
    "        if  int(age_3)>100 or int(age_3) <=0:\n",
    "            print('your age can not be grater than 100')\n",
    "        else:\n",
    "            if int(age_3) <=12:\n",
    "                cost_1+=5\n",
    "            elif int(age_3) >=13 and int(age_3) <=17:\n",
    "                cost_1+=7\n",
    "            elif int(age_3) >=18 and int(age_3) <=64:\n",
    "                cost_1+=10\n",
    "            else:\n",
    "                cost_1+=8        \n",
    "else:\n",
    "    print('Maximum number should be less than 3 or invalid input')\n",
    "print(f\"total amount to pay is - {cost_1}\")"
   ]
  }
 ],
 "metadata": {
  "kernelspec": {
   "display_name": "Python 3 (ipykernel)",
   "language": "python",
   "name": "python3"
  },
  "language_info": {
   "codemirror_mode": {
    "name": "ipython",
    "version": 3
   },
   "file_extension": ".py",
   "mimetype": "text/x-python",
   "name": "python",
   "nbconvert_exporter": "python",
   "pygments_lexer": "ipython3",
   "version": "3.11.3"
  }
 },
 "nbformat": 4,
 "nbformat_minor": 5
}

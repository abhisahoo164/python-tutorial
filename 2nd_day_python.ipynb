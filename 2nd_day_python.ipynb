{
 "cells": [
  {
   "cell_type": "code",
   "execution_count": 2,
   "id": "4650a69e",
   "metadata": {},
   "outputs": [
    {
     "name": "stdout",
     "output_type": "stream",
     "text": [
      "how many persons want to watch movie(pls enter numbers..) = 3\n",
      "enter the name of person 1 = abhi\n",
      "enter the age of abhi = 56\n",
      "enter the name of person 2 = jeet\n",
      "enter the age of jeet = 57\n",
      "enter the name of person 3 = sahoo\n",
      "enter the age of sahoo = 3\n",
      "Total Amount to be paid = $25\n"
     ]
    }
   ],
   "source": [
    "no_of_people=int(input(\"how many persons want to watch movie(pls enter numbers..) = \"))\n",
    "total_amt=0\n",
    "if no_of_people<=3:\n",
    "    for x in range(1,(no_of_people+1)):\n",
    "        name = input(\"enter the name of person \"+str(x)+\" = \")\n",
    "        age = int(input(\"enter the age of \"+name+\" = \")) \n",
    "        if age<0:\n",
    "            print(\"age can not be smaller than zero!! invalid input \\n       !! SORRY !!      \\n try again\")\n",
    "            break\n",
    "        elif age<=12:\n",
    "            total_amt=total_amt+5\n",
    "        elif age<=17:\n",
    "            total_amt=total_amt+7\n",
    "        elif age<=64:\n",
    "            total_amt=total_amt+10\n",
    "        elif age<=100:\n",
    "            total_amt=total_amt+8\n",
    "        else:\n",
    "            print(\"age can not be more than 100 \\nplease try again later!!\")\n",
    "            break\n",
    "else:\n",
    "    print(\"more than 3 people are not allowed\\n!!SORRY!!\")\n",
    "    \n",
    "print(\"Total Amount to be paid = $\"+str(total_amt))   "
   ]
  },
  {
   "cell_type": "markdown",
   "id": "5ec39134",
   "metadata": {},
   "source": [
    "## "
   ]
  },
  {
   "cell_type": "code",
   "execution_count": null,
   "id": "f43f82f9",
   "metadata": {},
   "outputs": [],
   "source": []
  }
 ],
 "metadata": {
  "kernelspec": {
   "display_name": "Python 3 (ipykernel)",
   "language": "python",
   "name": "python3"
  },
  "language_info": {
   "codemirror_mode": {
    "name": "ipython",
    "version": 3
   },
   "file_extension": ".py",
   "mimetype": "text/x-python",
   "name": "python",
   "nbconvert_exporter": "python",
   "pygments_lexer": "ipython3",
   "version": "3.11.3"
  }
 },
 "nbformat": 4,
 "nbformat_minor": 5
}
